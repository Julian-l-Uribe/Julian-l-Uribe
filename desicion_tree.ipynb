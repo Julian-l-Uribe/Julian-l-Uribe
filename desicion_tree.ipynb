{
  "nbformat": 4,
  "nbformat_minor": 0,
  "metadata": {
    "colab": {
      "name": "desicion tree",
      "provenance": [],
      "authorship_tag": "ABX9TyNdY0QXW4goF9v2hD7l/KPt",
      "include_colab_link": true
    },
    "kernelspec": {
      "name": "python3",
      "display_name": "Python 3"
    },
    "language_info": {
      "name": "python"
    }
  },
  "cells": [
    {
      "cell_type": "markdown",
      "metadata": {
        "id": "view-in-github",
        "colab_type": "text"
      },
      "source": [
        "<a href=\"https://colab.research.google.com/github/Julian-l-Uribe/Julian-l-Uribe/blob/main/desicion_tree.ipynb\" target=\"_parent\"><img src=\"https://colab.research.google.com/assets/colab-badge.svg\" alt=\"Open In Colab\"/></a>"
      ]
    },
    {
      "cell_type": "code",
      "execution_count": null,
      "metadata": {
        "id": "5HBEGXbTQSw7"
      },
      "outputs": [],
      "source": [
        "import networks as nx\n",
        "import matplotlib.pyplot as plt\n",
        "import pydot\n",
        "from networkx.drawing.nx_pydot import graphviz_layout\n",
        "\n",
        "def plot_tree(main_node, index, dim):\n",
        "  for node in mnode.child:\n",
        "    index = node.label\n",
        "    "
      ]
    },
    {
      "cell_type": "code",
      "source": [
        "import pandas as pd\n",
        "import numpy as np\n",
        "\n",
        "mush_train = pd.read_csv('mush_train.data', header=None)\n",
        "print(mush_train.head(10))\n",
        "mush_train = mush_train.to_numpy()\n"
      ],
      "metadata": {
        "id": "DRcL3bNaWYCw"
      },
      "execution_count": null,
      "outputs": []
    },
    {
      "cell_type": "code",
      "source": [
        "class node():\n",
        "\n",
        "  def _init_(self, X, Y, parent, isInternal = True, branched_at=None):\n",
        "    self.X = X\n",
        "    self.Y = Y\n",
        "    self.parent = parent\n",
        "    self.child = []\n",
        "    self.IG = 0\n",
        "    self.branched_at = branched_at\n",
        "\n",
        "    if(len(set(Y)) == 1):\n",
        "      self.leaf = True\n",
        "      self.label = Y[0]\n",
        "    else:\n",
        "      self.leaf = False\n",
        "      self.label = 'not a leaf'\n",
        "\n",
        "    if((parent == None or isInternal) and (not self.leaf)):\n",
        "      self.branch()\n",
        "\n",
        "\n",
        "  def cond_entropy(self, xi):\n",
        "    H_YXi = 0\n",
        "    for cat in set(self.X[:, xi]):#pick the column representing the attribute 'xi' \n",
        "       Y_cat = self.Y[np.where(self.X[:,xi] == cat)] #count of Y given each\n",
        "       e = len(np.where(Y_cat == 'e')[0]) / Y_cat.shape[0]\n",
        "       p = len(np.where(Y_cat == 'p')[0]) / Y_cat.shape[0]\n",
        "       H_YXi -= (Ycat.shape[0]/ self.Y.shape[0]) + (np.log(e**e) + np.log(p**p))\n",
        "\n",
        "      return H_YXi\n",
        "\n",
        " def branch(self):\n",
        "   e = len(np.where(self.Y == 'e')[0]) / self.Y.shape[0]\n",
        "   p = len(np.where(self.Y == 'p')[0]) / self.Y.shape[0]\n",
        "   H_Y = (np.log(e**e) + np.log(p**p))\n",
        "\n",
        "   if(self.branched_at == None):\n",
        "     max_gain = 0\n",
        "     for xi in range(self.X.shape[1]):\n",
        "       H_Yxi = self.cond_entropy(xi)\n",
        "       IG = H_Y - H_Yxi\n",
        "       if (IG > max_gain) or (IG == max_gain and self.branched_at < xi):\n",
        "         max_gain = IG\n",
        "         self.branched_at = xi\n",
        "\n",
        "  else:\n",
        "    max_gain = H_Y = self.cond_entropy(self.branched_at)\n",
        "\n",
        "\n",
        "  self.IG = max_gain \n",
        "  self.label = 'IG=' + str(np.round(max_gain, 3)) + '\\n at' + str(self.branched_at)\n",
        "\n",
        "  for cat in set(self.X[:, self.branched_at]"
      ],
      "metadata": {
        "id": "l11hxbBWYLP4"
      },
      "execution_count": null,
      "outputs": []
    },
    {
      "cell_type": "code",
      "source": [
        "def predict(X,Y, main_node):\n",
        "  Y_pred = []\n",
        "\n",
        "  for i in range(X.shape[0]):\n",
        "    cur_node = main_node\n",
        "\n",
        "    while True:\n",
        "      if (cur_node.label in set(Y_train)):\n",
        "        Y_pred.append(cur_node.label)\n",
        "        break\n",
        "\n",
        "      else:\n",
        "        flag = 0 \n",
        "        for node in cur_node.child:\n",
        "          check = list(set(node.X[:, cur_node.branched_at]))[0]\n",
        "          if(X[i, cur_node.branched_at] == check):\n",
        "            cur_node = node\n",
        "            flag = 1\n",
        "            break\n",
        "        if(flag == 0):\n",
        "          Y_pred.append('Not Found')\n",
        "          break\n",
        "    return Y_pred"
      ],
      "metadata": {
        "id": "qApUVu3Nkd06"
      },
      "execution_count": 1,
      "outputs": []
    }
  ]
}